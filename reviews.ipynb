{
 "cells": [
  {
   "cell_type": "code",
   "execution_count": 118,
   "metadata": {},
   "outputs": [],
   "source": [
    "# Import needed libraries\n",
    "import pandas as pd\n",
    "import zipfile\n",
    "import os\n",
    "\n",
    "# create dataframe with name df from file\n",
    "df = pd.read_csv('data/winemag-data-130k-v2.csv.zip',compression='zip')\n",
    "# Remove Unnamed column and setting index to country column\n",
    "df = df.filter(['country', 'points'])\n"
   ]
  },
  {
   "cell_type": "code",
   "execution_count": 119,
   "metadata": {},
   "outputs": [],
   "source": [
    "# Create a variable and pass all the unique values from the column country into it\n",
    "CountryList = df.country.unique()\n"
   ]
  },
  {
   "cell_type": "code",
   "execution_count": 120,
   "metadata": {},
   "outputs": [],
   "source": [
    "# Create dictionary to enter count and mean into\n",
    "CountDict = {}\n",
    "# Iterate through each country in the variable CountryList, which is the list of unique countries from the dataframes 'country' column\n",
    "for name in CountryList:\n",
    "    # Create a temporary dataframe that contains only the points values for the current iteration \n",
    "    dfTemp = df.loc[df.country.isin([name])]\n",
    "    # Count the total number of rows in the points column for the current iteration and assign it to variable 'count'\n",
    "    Count = dfTemp.points.count()\n",
    "    # Get the sum of the column labeled 'points' from the iterated dataframe\n",
    "    Total = dfTemp['points'].sum()\n",
    "    # Get the mean of the points scored for all rows from the current iteration\n",
    "    Mean = Total / Count\n",
    "    # Assign the current count and mean as a value assigned to the key named for the current iteration\n",
    "    CountDict[name] = name, Count, Mean\n"
   ]
  },
  {
   "cell_type": "code",
   "execution_count": 121,
   "metadata": {},
   "outputs": [],
   "source": [
    "# Create new dataframe using the dictionary created in for loop\n",
    "dfFinal = pd.DataFrame(CountDict)\n",
    "# Transpose the column to rows and using reset_index to prevent column headers from becoming an untouchable row element\n",
    "dfFinal = dfFinal.T.reset_index()\n",
    "# Removing row element created from old header names\n",
    "dfFinal = dfFinal.drop('index', axis=1)\n",
    "# Renaming column names\n",
    "dfFinal.columns = ['country', 'count', 'points']\n",
    "# Setting country column as the index for the rows\n",
    "dfFinal.set_index('country', inplace=True)\n",
    "# Sorting rows based off of count column value in descending order\n",
    "dfFinal.sort_values('count', inplace=True, ascending=False)\n",
    "# formatting float data types to one decimal point so points column shows as directed\n",
    "pd.options.display.float_format = '{:,.1f}'.format\n",
    "\n"
   ]
  },
  {
   "cell_type": "code",
   "execution_count": 122,
   "metadata": {},
   "outputs": [],
   "source": [
    "dir_path = os.path.dirname(os.path.realpath('reviews.ipynb'))\n",
    "dfFinal.to_csv(dir_path + '/data/reviews-per-country.csv')"
   ]
  },
  {
   "cell_type": "code",
   "execution_count": 123,
   "metadata": {},
   "outputs": [],
   "source": [
    "# Code stolen from Jeff that completes the assignment, but the final column needs to be named 'points' not 'mean'\n",
    "#df2 = df.groupby('country').points.agg(['count','mean']).sort_values('count', ascending=False).style.format({'mean':'{:,.1f}'})\n",
    "#df2\n",
    "\n",
    "\n"
   ]
  }
 ],
 "metadata": {
  "kernelspec": {
   "display_name": "venv",
   "language": "python",
   "name": "python3"
  },
  "language_info": {
   "codemirror_mode": {
    "name": "ipython",
    "version": 3
   },
   "file_extension": ".py",
   "mimetype": "text/x-python",
   "name": "python",
   "nbconvert_exporter": "python",
   "pygments_lexer": "ipython3",
   "version": "3.11.9"
  }
 },
 "nbformat": 4,
 "nbformat_minor": 2
}
